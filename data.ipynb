{
 "cells": [
  {
   "cell_type": "code",
   "execution_count": 2,
   "metadata": {},
   "outputs": [],
   "source": [
    "import pandas as pd"
   ]
  },
  {
   "cell_type": "code",
   "execution_count": 8,
   "metadata": {},
   "outputs": [
    {
     "data": {
      "text/html": [
       "<div>\n",
       "<style scoped>\n",
       "    .dataframe tbody tr th:only-of-type {\n",
       "        vertical-align: middle;\n",
       "    }\n",
       "\n",
       "    .dataframe tbody tr th {\n",
       "        vertical-align: top;\n",
       "    }\n",
       "\n",
       "    .dataframe thead th {\n",
       "        text-align: right;\n",
       "    }\n",
       "</style>\n",
       "<table border=\"1\" class=\"dataframe\">\n",
       "  <thead>\n",
       "    <tr style=\"text-align: right;\">\n",
       "      <th></th>\n",
       "      <th>이름</th>\n",
       "      <th>설명</th>\n",
       "      <th>img</th>\n",
       "    </tr>\n",
       "  </thead>\n",
       "  <tbody>\n",
       "    <tr>\n",
       "      <th>0</th>\n",
       "      <td>자격루</td>\n",
       "      <td>자격루는 고려 시대에 사용된 자동 시계탑으로, 물을 동력으로 사용하여 시간을 알렸습...</td>\n",
       "      <td>img/Clepsydra.jpg</td>\n",
       "    </tr>\n",
       "    <tr>\n",
       "      <th>1</th>\n",
       "      <td>측우기</td>\n",
       "      <td>측우기는 조선 세종대왕 때 발명된 비를 측정하는 기구로, 과학적 방법으로 강수량을 ...</td>\n",
       "      <td>img/RainGaugePedestal.jpg</td>\n",
       "    </tr>\n",
       "    <tr>\n",
       "      <th>2</th>\n",
       "      <td>거중기</td>\n",
       "      <td>거중기는 조선 시대에 성곽이나 궁궐의 건설에 사용된 크레인과 같은 기계로, 큰 돌이...</td>\n",
       "      <td>img/Geojunggi.jpg</td>\n",
       "    </tr>\n",
       "    <tr>\n",
       "      <th>3</th>\n",
       "      <td>엽전</td>\n",
       "      <td>엽전은 조선 시대에 사용된 주화로, 주로 동전 형태의 화폐였으며 경제 거래에 사용되...</td>\n",
       "      <td>img/Yeopjeon.jpg</td>\n",
       "    </tr>\n",
       "  </tbody>\n",
       "</table>\n",
       "</div>"
      ],
      "text/plain": [
       "    이름                                                 설명  \\\n",
       "0  자격루  자격루는 고려 시대에 사용된 자동 시계탑으로, 물을 동력으로 사용하여 시간을 알렸습...   \n",
       "1  측우기  측우기는 조선 세종대왕 때 발명된 비를 측정하는 기구로, 과학적 방법으로 강수량을 ...   \n",
       "2  거중기  거중기는 조선 시대에 성곽이나 궁궐의 건설에 사용된 크레인과 같은 기계로, 큰 돌이...   \n",
       "3   엽전  엽전은 조선 시대에 사용된 주화로, 주로 동전 형태의 화폐였으며 경제 거래에 사용되...   \n",
       "\n",
       "                         img  \n",
       "0          img/Clepsydra.jpg  \n",
       "1  img/RainGaugePedestal.jpg  \n",
       "2          img/Geojunggi.jpg  \n",
       "3           img/Yeopjeon.jpg  "
      ]
     },
     "execution_count": 8,
     "metadata": {},
     "output_type": "execute_result"
    }
   ],
   "source": [
    "df=pd.read_json('data.json')\n",
    "df"
   ]
  },
  {
   "cell_type": "code",
   "execution_count": 6,
   "metadata": {},
   "outputs": [
    {
     "data": {
      "text/html": [
       "<div>\n",
       "<style scoped>\n",
       "    .dataframe tbody tr th:only-of-type {\n",
       "        vertical-align: middle;\n",
       "    }\n",
       "\n",
       "    .dataframe tbody tr th {\n",
       "        vertical-align: top;\n",
       "    }\n",
       "\n",
       "    .dataframe thead th {\n",
       "        text-align: right;\n",
       "    }\n",
       "</style>\n",
       "<table border=\"1\" class=\"dataframe\">\n",
       "  <thead>\n",
       "    <tr style=\"text-align: right;\">\n",
       "      <th></th>\n",
       "      <th>이름</th>\n",
       "      <th>설명</th>\n",
       "      <th>img</th>\n",
       "    </tr>\n",
       "  </thead>\n",
       "  <tbody>\n",
       "    <tr>\n",
       "      <th>0</th>\n",
       "      <td>자격루</td>\n",
       "      <td>자격루는 고려 시대에 사용된 자동 시계탑으로, 물을 동력으로 사용하여 시간을 알렸습...</td>\n",
       "      <td>img/Clepsydra.jpg</td>\n",
       "    </tr>\n",
       "    <tr>\n",
       "      <th>1</th>\n",
       "      <td>측우기</td>\n",
       "      <td>측우기는 조선 세종대왕 때 발명된 비를 측정하는 기구로, 과학적 방법으로 강수량을 ...</td>\n",
       "      <td>img/RainGaugePedestal.jpg</td>\n",
       "    </tr>\n",
       "    <tr>\n",
       "      <th>2</th>\n",
       "      <td>거중기</td>\n",
       "      <td>거중기는 조선 시대에 성곽이나 궁궐의 건설에 사용된 크레인과 같은 기계로, 큰 돌이...</td>\n",
       "      <td>img/Geojunggi.jpg</td>\n",
       "    </tr>\n",
       "    <tr>\n",
       "      <th>3</th>\n",
       "      <td>엽전</td>\n",
       "      <td>엽전은 조선 시대에 사용된 주화로, 주로 동전 형태의 화폐였으며 경제 거래에 사용되...</td>\n",
       "      <td>img/Yeopjeon.jpg</td>\n",
       "    </tr>\n",
       "  </tbody>\n",
       "</table>\n",
       "</div>"
      ],
      "text/plain": [
       "    이름                                                 설명  \\\n",
       "0  자격루  자격루는 고려 시대에 사용된 자동 시계탑으로, 물을 동력으로 사용하여 시간을 알렸습...   \n",
       "1  측우기  측우기는 조선 세종대왕 때 발명된 비를 측정하는 기구로, 과학적 방법으로 강수량을 ...   \n",
       "2  거중기  거중기는 조선 시대에 성곽이나 궁궐의 건설에 사용된 크레인과 같은 기계로, 큰 돌이...   \n",
       "3   엽전  엽전은 조선 시대에 사용된 주화로, 주로 동전 형태의 화폐였으며 경제 거래에 사용되...   \n",
       "\n",
       "                         img  \n",
       "0          img/Clepsydra.jpg  \n",
       "1  img/RainGaugePedestal.jpg  \n",
       "2          img/Geojunggi.jpg  \n",
       "3           img/Yeopjeon.jpg  "
      ]
     },
     "execution_count": 6,
     "metadata": {},
     "output_type": "execute_result"
    }
   ],
   "source": [
    "df['img']='img/'+df['img']\n",
    "df"
   ]
  },
  {
   "cell_type": "code",
   "execution_count": 7,
   "metadata": {},
   "outputs": [],
   "source": [
    "df.to_json('data.json',index=False)"
   ]
  },
  {
   "cell_type": "code",
   "execution_count": 14,
   "metadata": {},
   "outputs": [
    {
     "data": {
      "text/plain": [
       "'자격루는 고려 시대에 사용된 자동 시계탑으로, 물을 동력으로 사용하여 시간을 알렸습니다. 이는 세계 최초의 기계적 시간 측정 장치 중 하나입니다.'"
      ]
     },
     "execution_count": 14,
     "metadata": {},
     "output_type": "execute_result"
    }
   ],
   "source": [
    "df[df['이름']=='자격루']['설명'].values[0]"
   ]
  }
 ],
 "metadata": {
  "kernelspec": {
   "display_name": "Python 3",
   "language": "python",
   "name": "python3"
  },
  "language_info": {
   "codemirror_mode": {
    "name": "ipython",
    "version": 3
   },
   "file_extension": ".py",
   "mimetype": "text/x-python",
   "name": "python",
   "nbconvert_exporter": "python",
   "pygments_lexer": "ipython3",
   "version": "3.11.9"
  }
 },
 "nbformat": 4,
 "nbformat_minor": 2
}
